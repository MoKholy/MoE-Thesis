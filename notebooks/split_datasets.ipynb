{
 "cells": [
  {
   "cell_type": "code",
   "execution_count": 1,
   "metadata": {},
   "outputs": [],
   "source": [
    "import sys\n",
    "sys.path.append('../')"
   ]
  },
  {
   "cell_type": "code",
   "execution_count": 7,
   "metadata": {},
   "outputs": [],
   "source": [
    "import pandas as pd\n",
    "import numpy as np\n",
    "import os\n",
    "from sklearn.model_selection import train_test_split\n",
    "\n",
    "from random import random"
   ]
  },
  {
   "cell_type": "code",
   "execution_count": 13,
   "metadata": {},
   "outputs": [],
   "source": [
    "# import initial dataset \n",
    "# get all dataset names from raw folder\n",
    "# fix seeds for splitting\n",
    "seeds = [10, 20, 30, 40, 50]\n",
    "\n",
    "\n",
    "\n",
    "datasets = os.listdir('../data/raw')\n",
    "\n",
    "# for each dataset split into train, test, val\n",
    "for seed in seeds:\n",
    "    np.random.seed(seed)\n",
    "    for dataset in datasets:\n",
    "        dataset_name = dataset.split('.')[0]\n",
    "        # read in dataset\n",
    "        df = pd.read_csv('../data/raw/' + dataset)\n",
    "        # split into train 0.8, test 0.1, val 0.1\n",
    "        train, test = train_test_split(df, test_size=0.2, stratify=df['Attack'])\n",
    "        test, val = train_test_split(test, test_size=0.5, stratify=test['Attack'])\n",
    "        # reset indices \n",
    "        train.reset_index(drop=True, inplace=True)\n",
    "        test.reset_index(drop=True, inplace=True)\n",
    "        val.reset_index(drop=True, inplace=True)\n",
    "        \n",
    "        # save to data/processed/seed folder with index=False\n",
    "        save_loc = '../data/processed/' + str(seed) + '/'\n",
    "        if not os.path.exists(save_loc):\n",
    "            os.makedirs(save_loc)\n",
    "        \n",
    "        for split in [\"train\", \"test\", \"val\"]:\n",
    "            save_name = split + \"_\" + dataset_name + '.csv'\n",
    "            save_path = save_loc + save_name\n",
    "            \n",
    "            if split == \"train\":\n",
    "                train.to_csv(save_path, index=False)\n",
    "            elif split == \"test\":\n",
    "                test.to_csv(save_path, index=False)\n",
    "            elif split == \"val\":\n",
    "                val.to_csv(save_path, index=False)\n",
    "            else:\n",
    "                print(\"ERROR\")\n",
    "    \n",
    "    "
   ]
  },
  {
   "cell_type": "code",
   "execution_count": null,
   "metadata": {},
   "outputs": [],
   "source": []
  }
 ],
 "metadata": {
  "kernelspec": {
   "display_name": "pytorch",
   "language": "python",
   "name": "python3"
  },
  "language_info": {
   "codemirror_mode": {
    "name": "ipython",
    "version": 3
   },
   "file_extension": ".py",
   "mimetype": "text/x-python",
   "name": "python",
   "nbconvert_exporter": "python",
   "pygments_lexer": "ipython3",
   "version": "3.9.18"
  },
  "orig_nbformat": 4
 },
 "nbformat": 4,
 "nbformat_minor": 2
}
