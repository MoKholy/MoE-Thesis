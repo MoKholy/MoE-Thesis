{
 "cells": [
  {
   "cell_type": "code",
   "execution_count": 1,
   "metadata": {},
   "outputs": [],
   "source": [
    "import sys \n",
    "sys.path.append(\"../\")\n",
    "from scripts.dataset import GatingDataset"
   ]
  },
  {
   "cell_type": "code",
   "execution_count": 4,
   "metadata": {},
   "outputs": [
    {
     "name": "stdout",
     "output_type": "stream",
     "text": [
      "Memory usage after processing: 219.1307373046875\n"
     ]
    }
   ],
   "source": [
    "# try dataset with name: cleaned_v2_dataset.csv\n",
    "dataset_name = \"cleaned_v2_dataset.csv\"\n",
    "dataset = GatingDataset(dataset_name, transform=False)"
   ]
  },
  {
   "cell_type": "code",
   "execution_count": 5,
   "metadata": {},
   "outputs": [
    {
     "data": {
      "text/plain": [
       "(tensor([[5.3000e+01, 1.7000e+01, 0.0000e+00, 6.6000e+01, 1.0000e+00, 2.7500e+02,\n",
       "          1.0000e+00, 0.0000e+00, 0.0000e+00, 0.0000e+00, 0.0000e+00, 0.0000e+00,\n",
       "          0.0000e+00, 0.0000e+00, 0.0000e+00, 2.7500e+02, 6.6000e+01, 6.6000e+01,\n",
       "          2.7500e+02, 6.6000e+01, 2.7500e+02, 0.0000e+00, 0.0000e+00, 0.0000e+00,\n",
       "          0.0000e+00, 5.2800e+05, 2.2000e+06, 1.0000e+00, 0.0000e+00, 1.0000e+00,\n",
       "          0.0000e+00, 0.0000e+00, 0.0000e+00, 0.0000e+00, 0.0000e+00, 0.0000e+00,\n",
       "          1.0000e+00, 1.7000e+01],\n",
       "         [8.0000e+01, 6.0000e+00, 7.0000e+00, 3.5230e+03, 2.7000e+01, 6.0150e+03,\n",
       "          2.5000e+01, 2.7000e+01, 2.7000e+01, 2.7000e+01, 4.2947e+06, 2.8100e+02,\n",
       "          2.8100e+02, 6.3000e+01, 6.3000e+01, 9.8700e+02, 5.2000e+01, 5.2000e+01,\n",
       "          9.8700e+02, 3.5230e+03, 6.0150e+03, 4.4100e+02, 1.0000e+00, 0.0000e+00,\n",
       "          0.0000e+00, 9.6000e+04, 1.6800e+05, 4.1000e+01, 0.0000e+00, 6.0000e+00,\n",
       "          5.0000e+00, 0.0000e+00, 2.6883e+04, 2.6847e+04, 4.7360e+04, 1.8500e+02,\n",
       "          0.0000e+00, 0.0000e+00]]),\n",
       " tensor([[1., 0., 0., 0., 0., 0., 0., 0., 0., 0., 0., 0., 0., 0., 0.],\n",
       "         [0., 0., 0., 0., 0., 0., 0., 0., 1., 0., 0., 0., 0., 0., 0.]]),\n",
       " tensor([0, 8]))"
      ]
     },
     "execution_count": 5,
     "metadata": {},
     "output_type": "execute_result"
    }
   ],
   "source": [
    "dataset[13:15]"
   ]
  },
  {
   "cell_type": "code",
   "execution_count": 6,
   "metadata": {},
   "outputs": [
    {
     "data": {
      "text/plain": [
       "38"
      ]
     },
     "execution_count": 6,
     "metadata": {},
     "output_type": "execute_result"
    }
   ],
   "source": [
    "dataset.get_input_dim()"
   ]
  },
  {
   "cell_type": "code",
   "execution_count": 4,
   "metadata": {},
   "outputs": [],
   "source": [
    "import pandas as pd\n",
    "df =pd.read_csv(\"../data/cleaned_v2_dataset.csv\")\n"
   ]
  },
  {
   "cell_type": "code",
   "execution_count": 5,
   "metadata": {},
   "outputs": [
    {
     "data": {
      "text/plain": [
       "1    0\n",
       "2    0\n",
       "3    0\n",
       "4    6\n",
       "Name: Attack, dtype: int64"
      ]
     },
     "execution_count": 5,
     "metadata": {},
     "output_type": "execute_result"
    }
   ],
   "source": [
    "df[\"Attack\"][[1, 2, 3, 4]]"
   ]
  }
 ],
 "metadata": {
  "kernelspec": {
   "display_name": "pytorch",
   "language": "python",
   "name": "python3"
  },
  "language_info": {
   "codemirror_mode": {
    "name": "ipython",
    "version": 3
   },
   "file_extension": ".py",
   "mimetype": "text/x-python",
   "name": "python",
   "nbconvert_exporter": "python",
   "pygments_lexer": "ipython3",
   "version": "3.9.18"
  },
  "orig_nbformat": 4
 },
 "nbformat": 4,
 "nbformat_minor": 2
}
