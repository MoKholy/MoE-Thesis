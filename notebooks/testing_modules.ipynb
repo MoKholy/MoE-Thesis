{
 "cells": [
  {
   "cell_type": "code",
   "execution_count": 1,
   "metadata": {},
   "outputs": [
    {
     "name": "stdout",
     "output_type": "stream",
     "text": [
      "Intel MKL WARNING: Support of Intel(R) Streaming SIMD Extensions 4.2 (Intel(R) SSE4.2) enabled only processors has been deprecated. Intel oneAPI Math Kernel Library 2025.0 will require Intel(R) Advanced Vector Extensions (Intel(R) AVX) instructions.\n",
      "Intel MKL WARNING: Support of Intel(R) Streaming SIMD Extensions 4.2 (Intel(R) SSE4.2) enabled only processors has been deprecated. Intel oneAPI Math Kernel Library 2025.0 will require Intel(R) Advanced Vector Extensions (Intel(R) AVX) instructions.\n"
     ]
    }
   ],
   "source": [
    "import sys\n",
    "sys.path.append(\"../\")\n",
    "\n",
    "from scripts.losses import *\n",
    "from scripts.models import *"
   ]
  },
  {
   "cell_type": "code",
   "execution_count": 2,
   "metadata": {},
   "outputs": [],
   "source": [
    "import torch\n",
    "import torch.nn as nn\n",
    "import numpy as np"
   ]
  },
  {
   "cell_type": "code",
   "execution_count": 8,
   "metadata": {},
   "outputs": [
    {
     "name": "stdout",
     "output_type": "stream",
     "text": [
      "tensor([[0.0296, 0.1434, 0.2571, 0.4051, 0.1648],\n",
      "        [0.0937, 0.2598, 0.2585, 0.1464, 0.2416]], grad_fn=<SoftmaxBackward0>)\n"
     ]
    }
   ],
   "source": [
    "# create a dummy gating network and test its output\n",
    "num_experts = 5\n",
    "input_dim = 10\n",
    "gating_network = GatingNetwork(input_dim, num_experts)\n",
    "input = torch.randn(2, input_dim)\n",
    "output = gating_network(input)\n",
    "print(output)"
   ]
  },
  {
   "cell_type": "code",
   "execution_count": 20,
   "metadata": {},
   "outputs": [
    {
     "name": "stdout",
     "output_type": "stream",
     "text": [
      "gating_weights: tensor([[0.2475, 0.1721, 0.1393, 0.3387, 0.1024]], grad_fn=<SoftmaxBackward0>)\n",
      "gating_weights shape: torch.Size([1, 5])\n",
      "expert_outputs: tensor([[[ 0.0244, -0.1832,  0.3221, -0.1801, -0.1942],\n",
      "         [ 0.0594,  0.2621, -0.2372,  0.3019, -0.0167],\n",
      "         [ 0.2595,  0.2930, -0.2218, -0.1491, -0.0619],\n",
      "         [-0.8229, -0.0947, -0.2963, -0.4112,  0.1993],\n",
      "         [-0.3486,  0.2746, -0.3861, -0.0831,  0.1165]]],\n",
      "       grad_fn=<CatBackward0>)\n",
      "expert_outputs shape: torch.Size([1, 5, 5])\n",
      "(tensor([-0.0615,  0.1273,  0.0269, -0.3801, -0.1090],\n",
      "       grad_fn=<SqueezeBackward0>), tensor([[0.2475, 0.1721, 0.1393, 0.3387, 0.1024]], grad_fn=<SoftmaxBackward0>), tensor([[[ 0.0244, -0.1832,  0.3221, -0.1801, -0.1942],\n",
      "         [ 0.0594,  0.2621, -0.2372,  0.3019, -0.0167],\n",
      "         [ 0.2595,  0.2930, -0.2218, -0.1491, -0.0619],\n",
      "         [-0.8229, -0.0947, -0.2963, -0.4112,  0.1993],\n",
      "         [-0.3486,  0.2746, -0.3861, -0.0831,  0.1165]]],\n",
      "       grad_fn=<CatBackward0>))\n"
     ]
    }
   ],
   "source": [
    "# create dummy Mixtures of Experts model and test its output\n",
    "num_experts = 5\n",
    "hidden_dim = 10\n",
    "input_dim = 20\n",
    "num_classes = 5\n",
    "model = MixtureOfExperts(input_dim, hidden_dim, num_experts, num_classes)\n",
    "input = torch.randn(1, input_dim)\n",
    "output = model(input)\n",
    "print(output)\n"
   ]
  },
  {
   "cell_type": "code",
   "execution_count": 21,
   "metadata": {},
   "outputs": [],
   "source": [
    "mixture_output, gating_weights, expert_outputs = output"
   ]
  },
  {
   "cell_type": "code",
   "execution_count": 22,
   "metadata": {},
   "outputs": [
    {
     "name": "stdout",
     "output_type": "stream",
     "text": [
      "mixture_output shape: torch.Size([5])\n",
      "gating_weights shape: torch.Size([1, 5])\n",
      "expert_outputs shape: torch.Size([1, 5, 5])\n"
     ]
    }
   ],
   "source": [
    "# print their shapes\n",
    "print(f\"mixture_output shape: {mixture_output.shape}\")\n",
    "print(f\"gating_weights shape: {gating_weights.shape}\")\n",
    "print(f\"expert_outputs shape: {expert_outputs.shape}\")"
   ]
  },
  {
   "cell_type": "code",
   "execution_count": 23,
   "metadata": {},
   "outputs": [
    {
     "name": "stdout",
     "output_type": "stream",
     "text": [
      "gating_weights_unsqueeze_2 shape: torch.Size([1, 5, 1])\n"
     ]
    }
   ],
   "source": [
    "print(f\"gating_weights_unsqueeze_2 shape: {gating_weights.unsqueeze(2).shape}\")"
   ]
  },
  {
   "cell_type": "code",
   "execution_count": null,
   "metadata": {},
   "outputs": [],
   "source": [
    "# outputs are correct shape "
   ]
  }
 ],
 "metadata": {
  "kernelspec": {
   "display_name": "pytorch",
   "language": "python",
   "name": "python3"
  },
  "language_info": {
   "codemirror_mode": {
    "name": "ipython",
    "version": 3
   },
   "file_extension": ".py",
   "mimetype": "text/x-python",
   "name": "python",
   "nbconvert_exporter": "python",
   "pygments_lexer": "ipython3",
   "version": "3.9.18"
  },
  "orig_nbformat": 4
 },
 "nbformat": 4,
 "nbformat_minor": 2
}
